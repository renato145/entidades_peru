{
 "cells": [
  {
   "cell_type": "code",
   "execution_count": 1,
   "id": "93bbbc3f",
   "metadata": {},
   "outputs": [],
   "source": [
    "from fastcore.all import *\n",
    "import pandas as pd, geopandas, matplotlib.pyplot as plt"
   ]
  },
  {
   "cell_type": "code",
   "execution_count": 2,
   "id": "6584798a",
   "metadata": {},
   "outputs": [
    {
     "data": {
      "text/html": [
       "<div>\n",
       "<style scoped>\n",
       "    .dataframe tbody tr th:only-of-type {\n",
       "        vertical-align: middle;\n",
       "    }\n",
       "\n",
       "    .dataframe tbody tr th {\n",
       "        vertical-align: top;\n",
       "    }\n",
       "\n",
       "    .dataframe thead th {\n",
       "        text-align: right;\n",
       "    }\n",
       "</style>\n",
       "<table border=\"1\" class=\"dataframe\">\n",
       "  <thead>\n",
       "    <tr style=\"text-align: right;\">\n",
       "      <th></th>\n",
       "      <th>poder</th>\n",
       "      <th>sector</th>\n",
       "      <th>departamento</th>\n",
       "      <th>provincia</th>\n",
       "      <th>distrito</th>\n",
       "      <th>entidad</th>\n",
       "    </tr>\n",
       "  </thead>\n",
       "  <tbody>\n",
       "    <tr>\n",
       "      <th>0</th>\n",
       "      <td>Poder Legislativo</td>\n",
       "      <td>Otros</td>\n",
       "      <td>Lima</td>\n",
       "      <td>Lima</td>\n",
       "      <td>Lima</td>\n",
       "      <td>Congreso de la RepÃºblica (Congreso)</td>\n",
       "    </tr>\n",
       "    <tr>\n",
       "      <th>1</th>\n",
       "      <td>Poder Judicial</td>\n",
       "      <td>Otros</td>\n",
       "      <td>Lima</td>\n",
       "      <td>Lima</td>\n",
       "      <td>Lima</td>\n",
       "      <td>Academia de la Magistratura (AMAG)</td>\n",
       "    </tr>\n",
       "    <tr>\n",
       "      <th>2</th>\n",
       "      <td>Poder Judicial</td>\n",
       "      <td>Otros</td>\n",
       "      <td>Arequipa</td>\n",
       "      <td>Arequipa</td>\n",
       "      <td>Arequipa</td>\n",
       "      <td>Corte Superior de Arequipa (CSJAR)</td>\n",
       "    </tr>\n",
       "  </tbody>\n",
       "</table>\n",
       "</div>"
      ],
      "text/plain": [
       "               poder sector departamento provincia  distrito  \\\n",
       "0  Poder Legislativo  Otros         Lima      Lima      Lima   \n",
       "1     Poder Judicial  Otros         Lima      Lima      Lima   \n",
       "2     Poder Judicial  Otros     Arequipa  Arequipa  Arequipa   \n",
       "\n",
       "                                entidad  \n",
       "0  Congreso de la RepÃºblica (Congreso)  \n",
       "1    Academia de la Magistratura (AMAG)  \n",
       "2    Corte Superior de Arequipa (CSJAR)  "
      ]
     },
     "execution_count": 2,
     "metadata": {},
     "output_type": "execute_result"
    }
   ],
   "source": [
    "df = pd.read_csv('data/entidades.csv', encoding='latin1')\n",
    "df.columns = map(str.lower, df.columns)\n",
    "df.iloc[:3,-8:]"
   ]
  },
  {
   "cell_type": "code",
   "execution_count": 3,
   "id": "58c80569",
   "metadata": {},
   "outputs": [],
   "source": [
    "# Drop unkwown locations\n",
    "cols = ['departamento', 'provincia', 'distrito']\n",
    "df.dropna(subset=cols, inplace=True)"
   ]
  },
  {
   "cell_type": "code",
   "execution_count": 4,
   "id": "747424d4",
   "metadata": {},
   "outputs": [],
   "source": [
    "def format_col(df, col): df[col] = df[col].str.title().str.replace('De', 'de')\n",
    "for col in cols: format_col(df, col)"
   ]
  },
  {
   "cell_type": "code",
   "execution_count": 5,
   "id": "9ddbf3ba",
   "metadata": {},
   "outputs": [
    {
     "data": {
      "text/plain": [
       "array(['Lima', 'Arequipa', 'Cusco', 'Amazonas', 'Ancash', 'Apurimac',\n",
       "       'Ayacucho', 'Cajamarca', 'Huancavelica', 'Huanuco', 'Ica', 'Junin',\n",
       "       'La Libertad', 'Loreto', 'Pasco', 'Callao', 'Puno', 'Piura',\n",
       "       'Tacna', 'Tumbes', 'Ucayali', 'Lambayeque', 'San Martin',\n",
       "       'Madre de Dios', 'Moquegua'], dtype=object)"
      ]
     },
     "execution_count": 5,
     "metadata": {},
     "output_type": "execute_result"
    }
   ],
   "source": [
    "df.departamento.unique()"
   ]
  },
  {
   "cell_type": "code",
   "execution_count": 6,
   "id": "6f6b22d4",
   "metadata": {},
   "outputs": [
    {
     "data": {
      "text/plain": [
       "departamento      25\n",
       "provincia        201\n",
       "distrito        1669\n",
       "dtype: int64"
      ]
     },
     "execution_count": 6,
     "metadata": {},
     "output_type": "execute_result"
    }
   ],
   "source": [
    "df[cols].nunique()"
   ]
  },
  {
   "cell_type": "code",
   "execution_count": 7,
   "id": "745ce434",
   "metadata": {},
   "outputs": [
    {
     "data": {
      "text/html": [
       "<div>\n",
       "<style scoped>\n",
       "    .dataframe tbody tr th:only-of-type {\n",
       "        vertical-align: middle;\n",
       "    }\n",
       "\n",
       "    .dataframe tbody tr th {\n",
       "        vertical-align: top;\n",
       "    }\n",
       "\n",
       "    .dataframe thead th {\n",
       "        text-align: right;\n",
       "    }\n",
       "</style>\n",
       "<table border=\"1\" class=\"dataframe\">\n",
       "  <thead>\n",
       "    <tr style=\"text-align: right;\">\n",
       "      <th></th>\n",
       "      <th>departamento</th>\n",
       "      <th>geometry</th>\n",
       "    </tr>\n",
       "  </thead>\n",
       "  <tbody>\n",
       "    <tr>\n",
       "      <th>0</th>\n",
       "      <td>Amazonas</td>\n",
       "      <td>POLYGON ((-77.81211 -2.98962, -77.81332 -2.990...</td>\n",
       "    </tr>\n",
       "    <tr>\n",
       "      <th>1</th>\n",
       "      <td>Ancash</td>\n",
       "      <td>POLYGON ((-77.64692 -8.05086, -77.64669 -8.052...</td>\n",
       "    </tr>\n",
       "    <tr>\n",
       "      <th>2</th>\n",
       "      <td>Apurimac</td>\n",
       "      <td>POLYGON ((-73.74632 -13.17456, -73.74570 -13.1...</td>\n",
       "    </tr>\n",
       "    <tr>\n",
       "      <th>3</th>\n",
       "      <td>Arequipa</td>\n",
       "      <td>POLYGON ((-71.98109 -14.64062, -71.98093 -14.6...</td>\n",
       "    </tr>\n",
       "    <tr>\n",
       "      <th>4</th>\n",
       "      <td>Ayacucho</td>\n",
       "      <td>POLYGON ((-74.34843 -12.17503, -74.35000 -12.1...</td>\n",
       "    </tr>\n",
       "  </tbody>\n",
       "</table>\n",
       "</div>"
      ],
      "text/plain": [
       "  departamento                                           geometry\n",
       "0     Amazonas  POLYGON ((-77.81211 -2.98962, -77.81332 -2.990...\n",
       "1       Ancash  POLYGON ((-77.64692 -8.05086, -77.64669 -8.052...\n",
       "2     Apurimac  POLYGON ((-73.74632 -13.17456, -73.74570 -13.1...\n",
       "3     Arequipa  POLYGON ((-71.98109 -14.64062, -71.98093 -14.6...\n",
       "4     Ayacucho  POLYGON ((-74.34843 -12.17503, -74.35000 -12.1..."
      ]
     },
     "execution_count": 7,
     "metadata": {},
     "output_type": "execute_result"
    }
   ],
   "source": [
    "gdf = geopandas.read_file('data/departamentos/DEPARTAMENTOS.shp')\n",
    "gdf.columns = map(str.lower, gdf.columns)\n",
    "gdf.rename({'departamen': 'departamento'}, axis=1, inplace=True)\n",
    "gdf.drop(['capital', 'fuente', 'iddpto'], axis=1, inplace=True)\n",
    "format_col(gdf, 'departamento')\n",
    "gdf.head()"
   ]
  },
  {
   "cell_type": "markdown",
   "id": "5994cadf",
   "metadata": {},
   "source": [
    "Check if all locations are in the shapefile"
   ]
  },
  {
   "cell_type": "code",
   "execution_count": 8,
   "id": "99656cca",
   "metadata": {
    "code_folding": [
     2
    ]
   },
   "outputs": [],
   "source": [
    "def normalize_str(x): return x.lower().replace('ð', 'ñ')\n",
    "def process_col(df, col): return L(df[col].unique().tolist())#.map(normalize_str)\n",
    "def check_col(col):\n",
    "    print(f'Checking {col!r}:')\n",
    "    a = process_col(df, col)\n",
    "    b = process_col(gdf, col)\n",
    "    n = len(set(a) - set(b))\n",
    "    if n == 0: print('All found')\n",
    "    else     :\n",
    "        print(f'{n} values without match')\n",
    "        print(set(a) - set(b))\n",
    "        print(set(b) - set(a))"
   ]
  },
  {
   "cell_type": "code",
   "execution_count": 9,
   "id": "a535f4c9",
   "metadata": {},
   "outputs": [
    {
     "name": "stdout",
     "output_type": "stream",
     "text": [
      "Checking 'departamento':\n",
      "All found\n"
     ]
    }
   ],
   "source": [
    "check_col('departamento')"
   ]
  },
  {
   "cell_type": "code",
   "execution_count": 24,
   "id": "57254174",
   "metadata": {},
   "outputs": [
    {
     "data": {
      "text/html": [
       "<div>\n",
       "<style scoped>\n",
       "    .dataframe tbody tr th:only-of-type {\n",
       "        vertical-align: middle;\n",
       "    }\n",
       "\n",
       "    .dataframe tbody tr th {\n",
       "        vertical-align: top;\n",
       "    }\n",
       "\n",
       "    .dataframe thead th {\n",
       "        text-align: right;\n",
       "    }\n",
       "</style>\n",
       "<table border=\"1\" class=\"dataframe\">\n",
       "  <thead>\n",
       "    <tr style=\"text-align: right;\">\n",
       "      <th></th>\n",
       "      <th>departamento</th>\n",
       "      <th>total</th>\n",
       "    </tr>\n",
       "  </thead>\n",
       "  <tbody>\n",
       "    <tr>\n",
       "      <th>0</th>\n",
       "      <td>Amazonas</td>\n",
       "      <td>426806</td>\n",
       "    </tr>\n",
       "    <tr>\n",
       "      <th>1</th>\n",
       "      <td>Ancash</td>\n",
       "      <td>1180638</td>\n",
       "    </tr>\n",
       "    <tr>\n",
       "      <th>2</th>\n",
       "      <td>Apurimac</td>\n",
       "      <td>430736</td>\n",
       "    </tr>\n",
       "  </tbody>\n",
       "</table>\n",
       "</div>"
      ],
      "text/plain": [
       "  departamento    total\n",
       "0     Amazonas   426806\n",
       "1       Ancash  1180638\n",
       "2     Apurimac   430736"
      ]
     },
     "execution_count": 24,
     "metadata": {},
     "output_type": "execute_result"
    }
   ],
   "source": [
    "df_poblacion = pd.read_csv('data/poblacion_departamento.csv')\n",
    "df_poblacion.columns = map(str.lower, df_poblacion.columns)\n",
    "format_col(df_poblacion, 'departamento')\n",
    "test_eq(sum(~df_poblacion.departamento.isin(df.departamento)), 0)\n",
    "df_poblacion.head(3)"
   ]
  },
  {
   "cell_type": "markdown",
   "id": "0889a9b9",
   "metadata": {},
   "source": [
    "# Export data"
   ]
  },
  {
   "cell_type": "code",
   "execution_count": 10,
   "id": "84b64d80",
   "metadata": {},
   "outputs": [],
   "source": [
    "public_path = Path('../public')"
   ]
  },
  {
   "cell_type": "code",
   "execution_count": 24,
   "id": "cba694cd",
   "metadata": {},
   "outputs": [],
   "source": [
    "df.to_csv(public_path / 'entidades.csv', index=False)\n",
    "df_poblacion.to_csv(public_path / 'poblacion_departamentos.csv', index=False)"
   ]
  },
  {
   "cell_type": "code",
   "execution_count": 26,
   "id": "4957ba5c",
   "metadata": {},
   "outputs": [],
   "source": [
    "gdf.to_file('data/departamentos.geojson', driver='GeoJSON')"
   ]
  },
  {
   "cell_type": "code",
   "execution_count": 28,
   "id": "ff2f085c",
   "metadata": {},
   "outputs": [
    {
     "name": "stdout",
     "output_type": "stream",
     "text": [
      "total 23M\r\n",
      "drwxr-xr-x 2 renato renato 4.0K Jun 27 13:14 \u001b[0m\u001b[01;34mdepartamentos\u001b[0m\r\n",
      "-rw-rw-r-- 1 renato renato  14M Jun 27 13:32 departamentos.geojson\r\n",
      "-rw-rw-r-- 1 renato renato 3.0M Jun 27 13:11 \u001b[01;31mdepartamentos.rar\u001b[0m\r\n",
      "-rw-rw-r-- 1 renato renato 281K Jun 27 13:24 entidades.csv\r\n",
      "drwxr-xr-x 2 renato renato 4.0K Jun 27 13:14 \u001b[01;34mprovincias\u001b[0m\r\n",
      "-rw-rw-r-- 1 renato renato 6.7M Jun 27 13:11 \u001b[01;31mprovincias.rar\u001b[0m\r\n"
     ]
    }
   ],
   "source": [
    "!ls -lh data"
   ]
  },
  {
   "cell_type": "markdown",
   "id": "56fe6c2d",
   "metadata": {},
   "source": [
    "Geojson size is big, so lets use https://mapshaper.org/ to reduce it to 5% and export as topojson"
   ]
  },
  {
   "cell_type": "code",
   "execution_count": 3,
   "id": "fe525200",
   "metadata": {},
   "outputs": [
    {
     "name": "stdout",
     "output_type": "stream",
     "text": [
      "total 812K\r\n",
      "-rw-rw-r-- 1 renato renato 490K Jun 27 14:00 departamentos.json\r\n",
      "-rw-rw-r-- 1 renato renato 281K Jun 27 13:26 entidades.csv\r\n",
      "-rw-rw-r-- 1 renato renato 3.8K Jun 27 01:28 favicon.ico\r\n",
      "-rw-rw-r-- 1 renato renato 1.7K Jun 27 01:31 index.html\r\n",
      "-rw-rw-r-- 1 renato renato 5.3K Jun 27 01:28 \u001b[0m\u001b[01;35mlogo192.png\u001b[0m\r\n",
      "-rw-rw-r-- 1 renato renato 9.5K Jun 27 01:28 \u001b[01;35mlogo512.png\u001b[0m\r\n",
      "-rw-rw-r-- 1 renato renato  492 Jun 27 01:28 manifest.json\r\n",
      "-rw-rw-r-- 1 renato renato   67 Jun 27 01:28 robots.txt\r\n"
     ]
    }
   ],
   "source": [
    "!ls -lh {public_path}"
   ]
  },
  {
   "cell_type": "code",
   "execution_count": null,
   "id": "d93c97ac",
   "metadata": {},
   "outputs": [],
   "source": []
  }
 ],
 "metadata": {
  "kernelspec": {
   "display_name": "Python [conda env:root]",
   "language": "python",
   "name": "conda-root-py"
  },
  "language_info": {
   "codemirror_mode": {
    "name": "ipython",
    "version": 3
   },
   "file_extension": ".py",
   "mimetype": "text/x-python",
   "name": "python",
   "nbconvert_exporter": "python",
   "pygments_lexer": "ipython3",
   "version": "3.7.7"
  },
  "toc": {
   "base_numbering": 1,
   "nav_menu": {},
   "number_sections": true,
   "sideBar": true,
   "skip_h1_title": false,
   "title_cell": "Table of Contents",
   "title_sidebar": "Contents",
   "toc_cell": false,
   "toc_position": {},
   "toc_section_display": true,
   "toc_window_display": false
  }
 },
 "nbformat": 4,
 "nbformat_minor": 5
}
